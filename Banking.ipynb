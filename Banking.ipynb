{
 "cells": [
  {
   "cell_type": "code",
   "execution_count": null,
   "id": "341c7a4d",
   "metadata": {},
   "outputs": [],
   "source": [
    "B=0                #Acc. Balance\n",
    "while True:\n",
    "    opr = input(\"Enter Operation:\")\n",
    "    \n",
    "    if opr == \"\":\n",
    "        break\n",
    "        \n",
    "    else:\n",
    "        A = opr.split(\" \")\n",
    "            \n",
    "        if A[0]==\"D\":\n",
    "            B=B+int(A[1])\n",
    "        elif A[0]==\"W\":\n",
    "            B=B-int(A[1])\n",
    "        elif opr==\"Q\":\n",
    "            pass\n",
    "            print(B)       #Final Acc. Balance\n",
    "            "
   ]
  }
 ],
 "metadata": {
  "kernelspec": {
   "display_name": "Python 3 (ipykernel)",
   "language": "python",
   "name": "python3"
  },
  "language_info": {
   "codemirror_mode": {
    "name": "ipython",
    "version": 3
   },
   "file_extension": ".py",
   "mimetype": "text/x-python",
   "name": "python",
   "nbconvert_exporter": "python",
   "pygments_lexer": "ipython3",
   "version": "3.9.7"
  }
 },
 "nbformat": 4,
 "nbformat_minor": 5
}
